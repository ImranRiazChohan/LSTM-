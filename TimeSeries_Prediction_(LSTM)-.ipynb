{
  "nbformat": 4,
  "nbformat_minor": 0,
  "metadata": {
    "accelerator": "GPU",
    "colab": {
      "name": "TimeSeries_Prediction_(LSTM)-.ipynb",
      "provenance": [],
      "private_outputs": true,
      "collapsed_sections": [],
      "include_colab_link": true
    },
    "kernelspec": {
      "name": "python3",
      "display_name": "Python 3"
    },
    "language_info": {
      "codemirror_mode": {
        "name": "ipython",
        "version": 3
      },
      "file_extension": ".py",
      "mimetype": "text/x-python",
      "name": "python",
      "nbconvert_exporter": "python",
      "pygments_lexer": "ipython3",
      "version": "3.7.4"
    }
  },
  "cells": [
    {
      "cell_type": "markdown",
      "metadata": {
        "id": "view-in-github",
        "colab_type": "text"
      },
      "source": [
        "<a href=\"https://colab.research.google.com/github/ImranRiazChohan/LSTM-/blob/master/TimeSeries_Prediction_(LSTM)-.ipynb\" target=\"_parent\"><img src=\"https://colab.research.google.com/assets/colab-badge.svg\" alt=\"Open In Colab\"/></a>"
      ]
    },
    {
      "cell_type": "code",
      "metadata": {
        "colab_type": "code",
        "id": "71vvrYhfumon",
        "colab": {}
      },
      "source": [
        "import numpy as np\n",
        "import matplotlib.pyplot as plt\n",
        "import pandas as pd\n",
        "from sklearn.preprocessing import MinMaxScaler\n",
        "from sklearn.model_selection import train_test_split\n",
        "from tqdm import tqdm_notebook\n",
        "from tensorflow.keras.optimizers import SGD,RMSprop,Adam\n",
        "from tensorflow import keras\n",
        "from tensorflow.keras.layers import Dense,LSTM,Dropout\n",
        "from tensorflow.keras.models import Sequential\n",
        "from tensorflow.keras import optimizers\n",
        "from tensorflow.keras.preprocessing.sequence import TimeseriesGenerator\n",
        "from tensorflow.keras.utils import normalize"
      ],
      "execution_count": 0,
      "outputs": []
    },
    {
      "cell_type": "code",
      "metadata": {
        "colab_type": "code",
        "id": "By2Zuca-vjj-",
        "colab": {}
      },
      "source": [
        "from google.colab import files\n",
        "uploaded=files.upload()"
      ],
      "execution_count": 0,
      "outputs": []
    },
    {
      "cell_type": "code",
      "metadata": {
        "colab_type": "code",
        "id": "3XfAoKMPumov",
        "colab": {}
      },
      "source": [
        "data_frame=pd.read_excel('2 year dataset.xlsx',date_parser=True)"
      ],
      "execution_count": 0,
      "outputs": []
    },
    {
      "cell_type": "code",
      "metadata": {
        "colab_type": "code",
        "id": "GcRCLzo0umo0",
        "colab": {}
      },
      "source": [
        "data_frame.head(5)"
      ],
      "execution_count": 0,
      "outputs": []
    },
    {
      "cell_type": "code",
      "metadata": {
        "colab_type": "code",
        "id": "I53ylsS4umo6",
        "colab": {}
      },
      "source": [
        "data_frame.tail(5)"
      ],
      "execution_count": 0,
      "outputs": []
    },
    {
      "cell_type": "code",
      "metadata": {
        "colab_type": "code",
        "id": "I5aBPj73umo-",
        "colab": {}
      },
      "source": [
        "data_frame.set_index('Date',inplace=True)"
      ],
      "execution_count": 0,
      "outputs": []
    },
    {
      "cell_type": "code",
      "metadata": {
        "colab_type": "code",
        "id": "Y6PT4kn1umpD",
        "colab": {}
      },
      "source": [
        "data_frame.index=pd.to_datetime(data_frame.index)"
      ],
      "execution_count": 0,
      "outputs": []
    },
    {
      "cell_type": "code",
      "metadata": {
        "colab_type": "code",
        "id": "oAUHMUTwumpI",
        "colab": {}
      },
      "source": [
        "data_frame.head()"
      ],
      "execution_count": 0,
      "outputs": []
    },
    {
      "cell_type": "code",
      "metadata": {
        "colab_type": "code",
        "id": "u7JwEM5lumpN",
        "colab": {}
      },
      "source": [
        "data_frame.tail()"
      ],
      "execution_count": 0,
      "outputs": []
    },
    {
      "cell_type": "code",
      "metadata": {
        "colab_type": "code",
        "id": "diy3bnHgumpR",
        "colab": {}
      },
      "source": [
        "data_frame.count()"
      ],
      "execution_count": 0,
      "outputs": []
    },
    {
      "cell_type": "code",
      "metadata": {
        "id": "_ZH1N0cmsizs",
        "colab_type": "code",
        "colab": {}
      },
      "source": [
        "data_frame.isnull().sum()"
      ],
      "execution_count": 0,
      "outputs": []
    },
    {
      "cell_type": "code",
      "metadata": {
        "id": "A1DbLtjKsizw",
        "colab_type": "code",
        "colab": {}
      },
      "source": [
        "data_frame['rice'].fillna(1,inplace=True)"
      ],
      "execution_count": 0,
      "outputs": []
    },
    {
      "cell_type": "code",
      "metadata": {
        "colab_type": "code",
        "id": "D_3Iv2PdumpW",
        "colab": {}
      },
      "source": [
        "# train_size=int(len(data_frame)* 0.75)\n",
        "# test_size=len(data_frame)-train_size\n",
        "# train_data,test_data=data_frame.iloc[0:train_size].values,data_frame.iloc[train_size:len(data_frame)].values\n",
        "# print(train_data.shape,test_data.shape)"
      ],
      "execution_count": 0,
      "outputs": []
    },
    {
      "cell_type": "code",
      "metadata": {
        "colab_type": "code",
        "id": "2sbiAmOSumpb",
        "colab": {}
      },
      "source": [
        "scaler = MinMaxScaler()\n",
        "traindata= scaler.fit_transform(data_frame)\n",
        "type(traindata)"
      ],
      "execution_count": 0,
      "outputs": []
    },
    {
      "cell_type": "code",
      "metadata": {
        "colab_type": "code",
        "id": "BGEAZoyhumpg",
        "colab": {}
      },
      "source": [
        "np.shape(traindata)"
      ],
      "execution_count": 0,
      "outputs": []
    },
    {
      "cell_type": "code",
      "metadata": {
        "id": "8WEfWQ1OwXBA",
        "colab_type": "code",
        "colab": {}
      },
      "source": [
        "train_size=int(len(traindata)* 0.75)\n",
        "test_size=len(traindata)-train_size\n",
        "train_data,test_data=traindata[0:train_size],traindata[train_size:len(traindata)]\n",
        "print(train_data.shape,test_data.shape)"
      ],
      "execution_count": 0,
      "outputs": []
    },
    {
      "cell_type": "code",
      "metadata": {
        "id": "t9nOw1CFsi0O",
        "colab_type": "code",
        "colab": {}
      },
      "source": [
        "train_gent=TimeseriesGenerator(train_data,train_data,length=3,batch_size=1)"
      ],
      "execution_count": 0,
      "outputs": []
    },
    {
      "cell_type": "code",
      "metadata": {
        "id": "0-s5p90isi0S",
        "colab_type": "code",
        "colab": {}
      },
      "source": [
        "train_gent[0][0].shape"
      ],
      "execution_count": 0,
      "outputs": []
    },
    {
      "cell_type": "code",
      "metadata": {
        "id": "Pfxaoa6lsi0W",
        "colab_type": "code",
        "colab": {}
      },
      "source": [
        "val_gent=TimeseriesGenerator(test_data,test_data,length=3,batch_size=1)"
      ],
      "execution_count": 0,
      "outputs": []
    },
    {
      "cell_type": "code",
      "metadata": {
        "id": "KLjEB4Xbsi0a",
        "colab_type": "code",
        "colab": {}
      },
      "source": [
        "val_gent[0][0].shape"
      ],
      "execution_count": 0,
      "outputs": []
    },
    {
      "cell_type": "code",
      "metadata": {
        "id": "d8WgOsMssi0j",
        "colab_type": "code",
        "colab": {}
      },
      "source": [
        "def model_LSTM():\n",
        "    regressior = Sequential()\n",
        "    regressior.add(LSTM(units = 120, activation = 'relu', return_sequences = True, input_shape = (3, 30)))\n",
        "    regressior.add(Dropout(0.2))\n",
        "    regressior.add(LSTM(units = 80, activation = 'relu',return_sequences=True))\n",
        "    regressior.add(Dropout(0.2))\n",
        "    \n",
        "    regressior.add(LSTM(units = 80, activation = 'relu',return_sequences=True))\n",
        "    regressior.add(Dropout(0.2))\n",
        "    \n",
        "    regressior.add(LSTM(units = 100, activation = 'relu'))\n",
        "    regressior.add(Dropout(0.2))\n",
        "    regressior.add(Dense(units = 30))\n",
        "    regressior.compile(loss='mse',optimizer=optimizers.Adam(lr=1e-4),metrics=['mae'])\n",
        "    return regressior"
      ],
      "execution_count": 0,
      "outputs": []
    },
    {
      "cell_type": "code",
      "metadata": {
        "colab_type": "code",
        "id": "9Lda_xtvump1",
        "colab": {}
      },
      "source": [
        "model=model_LSTM()"
      ],
      "execution_count": 0,
      "outputs": []
    },
    {
      "cell_type": "code",
      "metadata": {
        "id": "vpXRsRoN1UtC",
        "colab_type": "code",
        "colab": {}
      },
      "source": [
        "model.summary()"
      ],
      "execution_count": 0,
      "outputs": []
    },
    {
      "cell_type": "code",
      "metadata": {
        "id": "L0BM9XbUsi0q",
        "colab_type": "code",
        "colab": {}
      },
      "source": [
        "model.fit_generator(train_gent,epochs=5,verbose=1,validation_data=(val_gent))"
      ],
      "execution_count": 0,
      "outputs": []
    },
    {
      "cell_type": "code",
      "metadata": {
        "colab_type": "code",
        "id": "RmcXGDijLDb1",
        "colab": {}
      },
      "source": [
        "pred=model.predict_generator(val_gent)\n",
        "print(pred)"
      ],
      "execution_count": 0,
      "outputs": []
    },
    {
      "cell_type": "code",
      "metadata": {
        "id": "YHCB3aYfsi01",
        "colab_type": "code",
        "colab": {}
      },
      "source": [
        "scaler.inverse_transform(pred)"
      ],
      "execution_count": 0,
      "outputs": []
    },
    {
      "cell_type": "code",
      "metadata": {
        "id": "leQnb0Xxy77N",
        "colab_type": "code",
        "colab": {}
      },
      "source": [
        ""
      ],
      "execution_count": 0,
      "outputs": []
    }
  ]
}